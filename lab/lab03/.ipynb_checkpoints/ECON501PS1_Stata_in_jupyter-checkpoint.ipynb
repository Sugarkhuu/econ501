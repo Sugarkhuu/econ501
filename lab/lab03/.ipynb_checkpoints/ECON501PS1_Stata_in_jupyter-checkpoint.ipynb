{
 "cells": [
  {
   "cell_type": "code",
   "execution_count": null,
   "metadata": {
    "collapsed": true
   },
   "outputs": [],
   "source": []
  },
  {
   "cell_type": "code",
   "execution_count": null,
   "metadata": {
    "collapsed": true
   },
   "outputs": [],
   "source": []
  },
  {
   "cell_type": "markdown",
   "metadata": {},
   "source": [
    "# Problem set 1\n",
    "\n",
    "## Linear regression of MRW - an example\n",
    "\n",
    "Mankiw, Romer and Weil (QJE, 1992) present cross-section regression\n",
    "models for the log of income per capita, estimated using a sample of 98\n",
    "countries\n",
    "\n",
    "simplified version of the paper.\n",
    "\n",
    "http://www.nuff.ox.ac.uk/teaching/economics/bond/MRW%20example.pdf\n",
    "\n",
    "\n",
    "\n",
    "## OLS Regression for MRW Using Stata – A Very Basic Introduction\n",
    "\n",
    "The Stata dataset MRW.DTA contains data on real GDP per capita and related\n",
    "variables from the Penn World Table for a sample of 121 countries. This dataset was\n",
    "used to estimate growth equations by N.G.Mankiw, D.Romer and D.N.Weil, “A\n",
    "contribution to the empirics of economic growth”, Quarterly Journal of Economics,\n",
    "1992.\n",
    "\n",
    "The dataset can be downloaded from:\n",
    "http://www.nuffield.ox.ac.uk/teaching/economics/bond/ \n",
    "\n",
    "\n",
    "The dataset contains 11 variables:\n",
    "\n",
    "    number a country identifier between 1 and 121 \n",
    "    \n",
    "    country country name (a string variable)\n",
    "    \n",
    "    n a dummy variable equal to one if the country is included in the    non-oil sample\n",
    "    \n",
    "    i a dummy variable equal to one if the country is included in the    intermediate sample\n",
    "    \n",
    "    o a dummy variable equal to one if the country is included in the    oecd sample\n",
    "    \n",
    "    \n",
    "    \n",
    "    rgdpw60 real GDP per working age population in 1960\n",
    "    \n",
    "    rgdpw85 real GDP per working age population in 1985\n",
    "    \n",
    "    gdpgrowth average annual growth rate of real GDP per working age\n",
    "    \n",
    "    population between 1960 and 1985\n",
    "    \n",
    "    popgrowth average annual growth rate of the working age population    between 1960 and 1985\n",
    "    \n",
    "    i_y real investment as a share of real GDP, averaged over the period    1960-85\n",
    "    \n",
    "    school % of working age population in secondary school \n",
    "\n",
    "\n",
    "\n",
    "\n",
    "\n",
    "\n",
    "\n",
    "http://www.nuff.ox.ac.uk/teaching/economics/bond/OLS%20Regression%20Using%20Stata.pdf\n",
    "\n",
    "\n",
    "```\n",
    "    set more off\n",
    "    use c:\\temp\\mrw, clear\n",
    "    log using c:\\temp\\mrwexample, replace\n",
    "    gen lrgdpw85=ln(rgdpw85)\n",
    "    gen li_y=ln(i_y/100)\n",
    "    gen lpop=ln(0.05+popgrowth/100)\n",
    "    reg lrgdpw85 li_y lpop if n==1\n",
    "    test lpop = -li_y\n",
    "    log close\n",
    "    exit \n",
    "```\n",
    "\n",
    "\n",
    "## STATA tips for MRW paper\n",
    "\n",
    "\n",
    "### Some useful commands\n",
    "\n",
    "```\n",
    "describe [varlist] - lists variable names, types and labels\n",
    "summarize [varlist] - basic descriptive statistics\n",
    "summarize [varlist], detail - more descriptive statistics\n",
    "list [varlist] - displays values\n",
    "list [varlist] if [condition] - displays values if the specified condition is true \n",
    "```\n",
    "\n",
    "\n",
    "### Examples\n",
    "\n",
    "```\n",
    "    describe\n",
    "    summarize\n",
    "    su rgdpw85 if n==1\n",
    "    list if country==“Algeria” \n",
    "```\n",
    "\n",
    "Another useful command is generate. This allows new variables to be created by transforming the existing ones. e.g.\n",
    "\n",
    "#### Generate new variables\n",
    "\n",
    "```     generate lrgdpw85=ln(rgdpw85)\n",
    "     gen li_y=ln(i_y/100)\n",
    "     g lpop=ln(0.05+popgrowth/100) \n",
    "```\n",
    "\n",
    "### OLS regression\n",
    "\n",
    "regress is Stata’s basic command to compute OLS estimates.\n",
    "\n",
    "Having generated the variables lrgdpw85, li_y and lpop as above, we can use the command\n",
    "\n",
    "\n",
    "    regress lrgdpw85 li_y lpop if n==1 \n",
    "\n",
    "#### To reproduce the results for the restricted specification, we generate the variable\n",
    "\n",
    "     gen li_lpop=li_y-lpop\n",
    " \n",
    "We can then use the command\n",
    "\n",
    "     reg lrgdpw85 li_lpop if n==1\n",
    " \n",
    "#### Heteroskedasticity-robust standard errors\n",
    "\n",
    "These can be obtained using the , vce(robust) option.\n",
    "\n",
    "    regress lrgdpw85 li_y lpop if n==1, vce(r)\n",
    "\n",
    "In this example the robust standard errors are similar to the default standard errors,\n",
    "suggesting that heteroskedasticity may not be important in this model.\n",
    "\n",
    "\n",
    "#### Hypothesis tests\n",
    "\n",
    "A 95% confidence intervals are reported for each estimated coefficient, as are t-statistics\n",
    "and p-values for tests of the null hypothesis that the corresponding coefficient is zero.\n",
    "The F-statistic tests the null hypothesis that all the slope coefficients are zero.\n",
    "Other joint tests can be obtained using the test command.\n",
    "\n",
    "e.g. to test the restriction that the coefficient on lpop is -1 times the coefficient on\n",
    "li_y, we could type\n",
    "\n",
    "     test lpop = -li_y\n",
    " \n",
    "in the command window, after estimating the model of interest. Note that Stata\n",
    "reports an F(p,df) version of the test statistic, where p is the number of restrictions\n",
    "being tested, and df is the degrees of freedom N-K.\n",
    "The test command allows other kinds of linear restrictions to be tested.\n",
    "The testnl command allows non-linear restrictions to be tested. \n",
    "\n",
    "#### Storing results\n",
    "To store all results printed to the results window in a plain text file, first open a log\n",
    "file by typing\n",
    "\n",
    "     log using filename.log\n",
    " \n",
    "in the command window. To stop subsequent results being saved in the log file, type\n",
    "\n",
    "     file log close\n",
    " \n",
    "in the command window.\n",
    "\n",
    "Alternatively to save results in a Stata output file, either click File Log Begin, or click\n",
    "the Begin Log button on the toolbar. To stop subsequent results being saved in this\n",
    "way, either click File Log Close, or click the Close Log button on the toolbar. The\n",
    "resulting files can be viewed using Stata’s viewer.\n",
    "\n",
    "\n",
    "#### Storing commands\n",
    "For more serious use, commands can be stored in a simple program called a\n",
    "filename.do file, and executed from within the Do File Editor\n",
    "\n",
    "\n",
    "A simple example of a .do file could contain the commands\n",
    "\n",
    "```\n",
    "    set more off\n",
    "    use c:\\temp\\mrw, clear\n",
    "    log using c:\\temp\\mrwexample, replace\n",
    "    gen lrgdpw85=ln(rgdpw85)\n",
    "    gen li_y=ln(i_y/100)\n",
    "    gen lpop=ln(0.05+popgrowth/100)\n",
    "    reg lrgdpw85 li_y lpop if n==1\n",
    "    test lpop = -li_y\n",
    "    log close\n",
    "    exit \n",
    "```\n",
    "\n",
    "\n",
    "\n",
    "\n",
    "### Some Stata Help:\n",
    "\n",
    "To do most things in Stata, you can either use the menus or the command line. For example, to\n",
    "create a scatter plot in Stata, you can either use the menu sequence Graphics > Twoway Graph\n",
    "or use the command twoway (scatter variable1 variable2) at the command line. Note that you can\n",
    "also select other options such as setting the marker labels for the points in the scatter plot to be\n",
    "the country names, so that you can see which country is represented by each point.\n",
    "\n",
    "\n",
    "\n",
    "\n",
    ": Restricted OLS estimation, tabulated Stata output.\n",
    "\n",
    "http://academics.hamilton.edu/economics/cgeorges/macro-topics-files/growth-regressions.pdf\n",
    "\n",
    "\n",
    "\n",
    "## out put to word document\n",
    "\n",
    "http://www.princeton.edu/~otorres/Outreg2.pdf\n",
    "\n",
    "\n",
    "```\n",
    "ssc install outreg2\n",
    "\n",
    "\n",
    "*Follow this example \n",
    "\n",
    "use \"http://dss.princeton.edu/training/Panel101.dta\", clear\n",
    "\n",
    "reg y x1, robust\n",
    "\n",
    "outreg2 using myreg.doc, replace ctitle(Model 1) label\n",
    "\n",
    "*You can add other model (using variable x2) by using the option append\n",
    "\n",
    "\n",
    "*(NOTE: make sure to close myreg.doc)\n",
    "\n",
    "reg y x1 x2, robust\n",
    "\n",
    "outreg2 using myreg.doc, append ctitle(Model 2) label\n",
    "\n",
    "\n",
    "use \"http://dss.princeton.edu/training/Panel101.dta\", clear\n",
    "\n",
    "logit y_bin x1\n",
    "\n",
    "outreg2 using mymod.doc, replace ctitle(Logit coeff)\n",
    "\n",
    "logit y_bin x1 \n",
    "\n",
    "* or\n",
    "\n",
    "outreg2 using mymod.doc, append ctitle(Odds ratio) eform\n",
    "\n",
    "```\n"
   ]
  },
  {
   "cell_type": "markdown",
   "metadata": {},
   "source": [
    "## All example\n",
    "\n",
    "http://www.ats.ucla.edu/stat/stata/examples/chp/chpstata3.htm\n",
    "\n",
    "http://www.princeton.edu/~otorres/#01"
   ]
  },
  {
   "cell_type": "code",
   "execution_count": null,
   "metadata": {
    "collapsed": true
   },
   "outputs": [],
   "source": []
  },
  {
   "cell_type": "markdown",
   "metadata": {},
   "source": [
    "### A sample ipystata session\n",
    "\n",
    "Below is a simple example of this second method in use.  For more details see the [example notebook](http://nbviewer.jupyter.org/github/TiesdeKok/ipystata/blob/master/ipystata/Example.ipynb) and documentation on the ipystata repository.\n",
    "\n",
    "## Basic stata with MRW\n",
    "http://www.nuff.ox.ac.uk/teaching/economics/bond/OLS%20Regression%20Using%20Stata.pdf\n",
    "\n",
    "## MRW.dta\n",
    "http://www.nuffield.ox.ac.uk/teaching/economics/bond/\n",
    "\n",
    "## Stata tutorial\n",
    "http://www.ncer.edu.au/events/documents/Singapore_lecture1.pdf\n",
    "\n",
    "## Other data source\n",
    "http://www.owlnet.rice.edu/~econ446/StewartData/\n",
    "\n",
    "\n",
    "## Macrocomplab\n",
    "\n",
    "https://sites.google.com/site/macrocomplab/curriculum"
   ]
  },
  {
   "cell_type": "code",
   "execution_count": 15,
   "metadata": {
    "collapsed": false
   },
   "outputs": [],
   "source": [
    "%matplotlib inline\n",
    "import seaborn as sns\n",
    "import numpy as np\n",
    "import pandas as pd\n",
    "import ipystata"
   ]
  },
  {
   "cell_type": "markdown",
   "metadata": {},
   "source": [
    "The following opens a Stata session where we load a dataset and summarize the data.  The ```-o``` flag following the `%%Stata``` magic instructs it to output or return the dataset in Stata memory as a pandas dataframe in python. "
   ]
  },
  {
   "cell_type": "code",
   "execution_count": 38,
   "metadata": {
    "collapsed": false
   },
   "outputs": [
    {
     "name": "stdout",
     "output_type": "stream",
     "text": [
      "\n",
      "    Variable |        Obs        Mean    Std. Dev.       Min        Max\n",
      "-------------+---------------------------------------------------------\n",
      "     country |         75    71.26667    32.58599          1        120\n",
      "       gdp60 |         75     3620.76    2999.976        383      12362\n",
      "       gdp85 |         75    6589.827    5410.907        608      19723\n",
      "         pop |         75    2.166667    .9751415         .3        4.3\n",
      "        igdp |         75    19.35067    7.565951        5.4       36.9\n",
      "-------------+---------------------------------------------------------\n",
      "      school |         75    6.381333    3.233093         .5       11.9\n",
      "\n"
     ]
    }
   ],
   "source": [
    "%%stata -o mrw_df\n",
    "* use ..\\..\\ass\\lifeexp.dta\n",
    "*use http://www.owlnet.rice.edu/~econ446/StewartData/Stata/mrw.dta\n",
    "*use http://www.nuffield.ox.ac.uk/teaching/economics/bond/mrw.dta\n",
    "*use \"F:\\OneDrive\\One drive\\501-2017\\lab\\lab3\\Mrw.dta\", clear\n",
    "summarize"
   ]
  },
  {
   "cell_type": "code",
   "execution_count": 37,
   "metadata": {
    "collapsed": false
   },
   "outputs": [
    {
     "name": "stdout",
     "output_type": "stream",
     "text": [
      "\n",
      "    Variable |        Obs        Mean    Std. Dev.       Min        Max\n",
      "-------------+---------------------------------------------------------\n",
      "      number |        121          61    35.07373          1        121\n",
      "     country |          0\n",
      "       ccode |          0\n",
      "          sn |        121    .8099174    .3939977          0          1\n",
      "          si |        121    .6198347    .4874457          0          1\n",
      "-------------+---------------------------------------------------------\n",
      "          so |        121    .1818182    .3872983          0          1\n",
      "     gdp1960 |        116    3681.819    7492.878        383      77881\n",
      "     gdp1985 |        108    5683.259    5688.671        412      25635\n",
      "     workpop |        107    2.279439    .9987481         .3        6.8\n",
      "      invest |        121    18.15702     7.85331        4.1       36.9\n",
      "-------------+---------------------------------------------------------\n",
      "      school |        118    5.526271    3.532037         .4       12.1\n",
      "\n"
     ]
    }
   ],
   "source": [
    "%%stata -o mrw_df\n",
    "\n",
    "use \"F:\\OneDrive\\One drive\\501-2017\\lab\\lab3\\Mrw.dta\", clear\n",
    "summarize"
   ]
  },
  {
   "cell_type": "markdown",
   "metadata": {},
   "source": [
    "Let's confirm the data was returned as a pandas dataframe:"
   ]
  },
  {
   "cell_type": "code",
   "execution_count": 5,
   "metadata": {
    "collapsed": false
   },
   "outputs": [
    {
     "data": {
      "text/html": [
       "<div>\n",
       "<table border=\"1\" class=\"dataframe\">\n",
       "  <thead>\n",
       "    <tr style=\"text-align: right;\">\n",
       "      <th></th>\n",
       "      <th>number</th>\n",
       "      <th>country</th>\n",
       "      <th>ccode</th>\n",
       "      <th>sn</th>\n",
       "      <th>si</th>\n",
       "      <th>so</th>\n",
       "      <th>gdp1960</th>\n",
       "      <th>gdp1985</th>\n",
       "      <th>workpop</th>\n",
       "      <th>invest</th>\n",
       "      <th>school</th>\n",
       "    </tr>\n",
       "  </thead>\n",
       "  <tbody>\n",
       "    <tr>\n",
       "      <th>0</th>\n",
       "      <td>1</td>\n",
       "      <td>Algeria</td>\n",
       "      <td>DZA</td>\n",
       "      <td>1</td>\n",
       "      <td>1</td>\n",
       "      <td>0</td>\n",
       "      <td>2485.0</td>\n",
       "      <td>4371.0</td>\n",
       "      <td>2.6</td>\n",
       "      <td>24.1</td>\n",
       "      <td>4.5</td>\n",
       "    </tr>\n",
       "    <tr>\n",
       "      <th>1</th>\n",
       "      <td>2</td>\n",
       "      <td>Angola</td>\n",
       "      <td>AGO</td>\n",
       "      <td>1</td>\n",
       "      <td>0</td>\n",
       "      <td>0</td>\n",
       "      <td>1588.0</td>\n",
       "      <td>1171.0</td>\n",
       "      <td>2.1</td>\n",
       "      <td>5.8</td>\n",
       "      <td>1.8</td>\n",
       "    </tr>\n",
       "    <tr>\n",
       "      <th>2</th>\n",
       "      <td>3</td>\n",
       "      <td>Benin</td>\n",
       "      <td>BEN</td>\n",
       "      <td>1</td>\n",
       "      <td>0</td>\n",
       "      <td>0</td>\n",
       "      <td>1116.0</td>\n",
       "      <td>1071.0</td>\n",
       "      <td>2.4</td>\n",
       "      <td>10.8</td>\n",
       "      <td>1.8</td>\n",
       "    </tr>\n",
       "  </tbody>\n",
       "</table>\n",
       "</div>"
      ],
      "text/plain": [
       "   number  country ccode  sn  si  so  gdp1960  gdp1985  workpop  invest  \\\n",
       "0       1  Algeria   DZA   1   1   0   2485.0   4371.0      2.6    24.1   \n",
       "1       2   Angola   AGO   1   0   0   1588.0   1171.0      2.1     5.8   \n",
       "2       3    Benin   BEN   1   0   0   1116.0   1071.0      2.4    10.8   \n",
       "\n",
       "   school  \n",
       "0     4.5  \n",
       "1     1.8  \n",
       "2     1.8  "
      ]
     },
     "execution_count": 5,
     "metadata": {},
     "output_type": "execute_result"
    }
   ],
   "source": [
    "mrw_df.head(3)"
   ]
  },
  {
   "cell_type": "markdown",
   "metadata": {},
   "source": [
    "A simple  generate variable command and ols regression in Stata:"
   ]
  },
  {
   "cell_type": "code",
   "execution_count": 6,
   "metadata": {
    "collapsed": false
   },
   "outputs": [
    {
     "name": "stdout",
     "output_type": "stream",
     "text": [
      "(13 missing values generated)\n",
      "\n",
      "(5 missing values generated)\n",
      "\n",
      "(16 missing values generated)\n",
      "\n",
      "      Source |       SS           df       MS      Number of obs   =       105\n",
      "-------------+----------------------------------   F(1, 103)       =      0.00\n",
      "       Model |  .001108948         1  .001108948   Prob > F        =    0.9446\n",
      "    Residual |  23.5648721       103  .228785166   R-squared       =    0.0000\n",
      "-------------+----------------------------------   Adj R-squared   =   -0.0097\n",
      "       Total |   23.565981       104  .226595971   Root MSE        =    .47831\n",
      "\n",
      "------------------------------------------------------------------------------\n",
      "           g |      Coef.   Std. Err.      t    P>|t|     [95% Conf. Interval]\n",
      "-------------+----------------------------------------------------------------\n",
      "       lny60 |   .0033592   .0482496     0.07   0.945    -.0923325    .0990509\n",
      "       _cons |   .4232769   .3711243     1.14   0.257    -.3127607    1.159314\n",
      "------------------------------------------------------------------------------\n",
      "\n"
     ]
    }
   ],
   "source": [
    "%%stata -o mrw_df\n",
    "gen lny85=ln(gdp1985)\n",
    "gen lny60=ln(gdp1960)\n",
    "gen g=lny85-lny60\n",
    "reg g lny60"
   ]
  },
  {
   "cell_type": "markdown",
   "metadata": {},
   "source": [
    "And the same regression using a method from python pandas:"
   ]
  },
  {
   "cell_type": "markdown",
   "metadata": {},
   "source": [
    "Let's change one of the variables in the dataframe in python:"
   ]
  },
  {
   "cell_type": "code",
   "execution_count": 12,
   "metadata": {
    "collapsed": false
   },
   "outputs": [
    {
     "name": "stdout",
     "output_type": "stream",
     "text": [
      "\n",
      "      Source |       SS           df       MS      Number of obs   =       105\n",
      "-------------+----------------------------------   F(1, 103)       =      0.00\n",
      "       Model |  .001108948         1  .001108948   Prob > F        =    0.9446\n",
      "    Residual |  23.5648721       103  .228785166   R-squared       =    0.0000\n",
      "-------------+----------------------------------   Adj R-squared   =   -0.0097\n",
      "       Total |   23.565981       104  .226595971   Root MSE        =    .47831\n",
      "\n",
      "------------------------------------------------------------------------------\n",
      "           g |      Coef.   Std. Err.      t    P>|t|     [95% Conf. Interval]\n",
      "-------------+----------------------------------------------------------------\n",
      "       lny60 |   .0033592   .0482496     0.07   0.945    -.0923325    .0990509\n",
      "       _cons |   .4232769   .3711243     1.14   0.257    -.3127607    1.159314\n",
      "------------------------------------------------------------------------------\n",
      "\n"
     ]
    }
   ],
   "source": [
    "%%stata -o mrw_df\n",
    "*OLS regression\n",
    "reg g lny60\n"
   ]
  },
  {
   "cell_type": "code",
   "execution_count": null,
   "metadata": {
    "collapsed": false
   },
   "outputs": [],
   "source": []
  },
  {
   "cell_type": "code",
   "execution_count": 26,
   "metadata": {
    "collapsed": false
   },
   "outputs": [
    {
     "data": {
      "text/plain": [
       "Index(['number', 'country', 'ccode', 'sn', 'si', 'so', 'gdp1960', 'gdp1985',\n",
       "       'workpop', 'invest', 'school', 'lny85', 'lny60', 'g'],\n",
       "      dtype='object')"
      ]
     },
     "execution_count": 26,
     "metadata": {},
     "output_type": "execute_result"
    }
   ],
   "source": [
    "mrw_df.columns"
   ]
  },
  {
   "cell_type": "code",
   "execution_count": 29,
   "metadata": {
    "collapsed": false
   },
   "outputs": [],
   "source": [
    "# mrw_df.lni not working for new variables\n",
    "mrw_df['lni'] = np.log(mrw_df.invest/100)\n",
    "mrw_df['lnd'] = np.log(mrw_df.workpop/100+0.05)\n",
    "mrw_df['lns'] = np.log(mrw_df.school)"
   ]
  },
  {
   "cell_type": "code",
   "execution_count": 32,
   "metadata": {
    "collapsed": false
   },
   "outputs": [
    {
     "data": {
      "text/plain": [
       "Index(['number', 'country', 'ccode', 'sn', 'si', 'so', 'gdp1960', 'gdp1985',\n",
       "       'workpop', 'invest', 'school', 'lny85', 'lny60', 'g', 'lni', 'lnd',\n",
       "       'lns'],\n",
       "      dtype='object')"
      ]
     },
     "execution_count": 32,
     "metadata": {},
     "output_type": "execute_result"
    }
   ],
   "source": [
    "mrw_df.columns"
   ]
  },
  {
   "cell_type": "code",
   "execution_count": 30,
   "metadata": {
    "collapsed": false
   },
   "outputs": [
    {
     "data": {
      "text/html": [
       "<div>\n",
       "<table border=\"1\" class=\"dataframe\">\n",
       "  <thead>\n",
       "    <tr style=\"text-align: right;\">\n",
       "      <th></th>\n",
       "      <th>number</th>\n",
       "      <th>country</th>\n",
       "      <th>ccode</th>\n",
       "      <th>sn</th>\n",
       "      <th>si</th>\n",
       "      <th>so</th>\n",
       "      <th>gdp1960</th>\n",
       "      <th>gdp1985</th>\n",
       "      <th>workpop</th>\n",
       "      <th>invest</th>\n",
       "      <th>school</th>\n",
       "      <th>lny85</th>\n",
       "      <th>lny60</th>\n",
       "      <th>g</th>\n",
       "      <th>lni</th>\n",
       "      <th>lnd</th>\n",
       "      <th>lns</th>\n",
       "    </tr>\n",
       "  </thead>\n",
       "  <tbody>\n",
       "    <tr>\n",
       "      <th>0</th>\n",
       "      <td>1</td>\n",
       "      <td>Algeria</td>\n",
       "      <td>DZA</td>\n",
       "      <td>1</td>\n",
       "      <td>1</td>\n",
       "      <td>0</td>\n",
       "      <td>2485.0</td>\n",
       "      <td>4371.0</td>\n",
       "      <td>2.6</td>\n",
       "      <td>24.100000</td>\n",
       "      <td>4.5</td>\n",
       "      <td>8.382747</td>\n",
       "      <td>7.818028</td>\n",
       "      <td>0.564719</td>\n",
       "      <td>-1.422958</td>\n",
       "      <td>-2.577022</td>\n",
       "      <td>1.504077</td>\n",
       "    </tr>\n",
       "    <tr>\n",
       "      <th>1</th>\n",
       "      <td>2</td>\n",
       "      <td>Angola</td>\n",
       "      <td>AGO</td>\n",
       "      <td>1</td>\n",
       "      <td>0</td>\n",
       "      <td>0</td>\n",
       "      <td>1588.0</td>\n",
       "      <td>1171.0</td>\n",
       "      <td>2.1</td>\n",
       "      <td>5.800000</td>\n",
       "      <td>1.8</td>\n",
       "      <td>7.065613</td>\n",
       "      <td>7.370231</td>\n",
       "      <td>-0.304617</td>\n",
       "      <td>-2.847312</td>\n",
       "      <td>-2.645075</td>\n",
       "      <td>0.587787</td>\n",
       "    </tr>\n",
       "    <tr>\n",
       "      <th>2</th>\n",
       "      <td>3</td>\n",
       "      <td>Benin</td>\n",
       "      <td>BEN</td>\n",
       "      <td>1</td>\n",
       "      <td>0</td>\n",
       "      <td>0</td>\n",
       "      <td>1116.0</td>\n",
       "      <td>1071.0</td>\n",
       "      <td>2.4</td>\n",
       "      <td>10.800000</td>\n",
       "      <td>1.8</td>\n",
       "      <td>6.976348</td>\n",
       "      <td>7.017506</td>\n",
       "      <td>-0.041158</td>\n",
       "      <td>-2.225624</td>\n",
       "      <td>-2.603690</td>\n",
       "      <td>0.587787</td>\n",
       "    </tr>\n",
       "    <tr>\n",
       "      <th>3</th>\n",
       "      <td>4</td>\n",
       "      <td>Botswana</td>\n",
       "      <td>BWA</td>\n",
       "      <td>1</td>\n",
       "      <td>1</td>\n",
       "      <td>0</td>\n",
       "      <td>959.0</td>\n",
       "      <td>3671.0</td>\n",
       "      <td>3.2</td>\n",
       "      <td>28.299999</td>\n",
       "      <td>2.9</td>\n",
       "      <td>8.208220</td>\n",
       "      <td>6.865891</td>\n",
       "      <td>1.342329</td>\n",
       "      <td>-1.262308</td>\n",
       "      <td>-2.501036</td>\n",
       "      <td>1.064711</td>\n",
       "    </tr>\n",
       "    <tr>\n",
       "      <th>4</th>\n",
       "      <td>5</td>\n",
       "      <td>Burkina Faso</td>\n",
       "      <td>BFA</td>\n",
       "      <td>1</td>\n",
       "      <td>0</td>\n",
       "      <td>0</td>\n",
       "      <td>529.0</td>\n",
       "      <td>857.0</td>\n",
       "      <td>0.9</td>\n",
       "      <td>12.700000</td>\n",
       "      <td>0.4</td>\n",
       "      <td>6.753438</td>\n",
       "      <td>6.270988</td>\n",
       "      <td>0.482450</td>\n",
       "      <td>-2.063568</td>\n",
       "      <td>-2.830218</td>\n",
       "      <td>-0.916291</td>\n",
       "    </tr>\n",
       "  </tbody>\n",
       "</table>\n",
       "</div>"
      ],
      "text/plain": [
       "   number       country ccode  sn  si  so  gdp1960  gdp1985  workpop  \\\n",
       "0       1       Algeria   DZA   1   1   0   2485.0   4371.0      2.6   \n",
       "1       2        Angola   AGO   1   0   0   1588.0   1171.0      2.1   \n",
       "2       3         Benin   BEN   1   0   0   1116.0   1071.0      2.4   \n",
       "3       4      Botswana   BWA   1   1   0    959.0   3671.0      3.2   \n",
       "4       5  Burkina Faso   BFA   1   0   0    529.0    857.0      0.9   \n",
       "\n",
       "      invest  school     lny85     lny60         g       lni       lnd  \\\n",
       "0  24.100000     4.5  8.382747  7.818028  0.564719 -1.422958 -2.577022   \n",
       "1   5.800000     1.8  7.065613  7.370231 -0.304617 -2.847312 -2.645075   \n",
       "2  10.800000     1.8  6.976348  7.017506 -0.041158 -2.225624 -2.603690   \n",
       "3  28.299999     2.9  8.208220  6.865891  1.342329 -1.262308 -2.501036   \n",
       "4  12.700000     0.4  6.753438  6.270988  0.482450 -2.063568 -2.830218   \n",
       "\n",
       "        lns  \n",
       "0  1.504077  \n",
       "1  0.587787  \n",
       "2  0.587787  \n",
       "3  1.064711  \n",
       "4 -0.916291  "
      ]
     },
     "execution_count": 30,
     "metadata": {},
     "output_type": "execute_result"
    }
   ],
   "source": [
    "mrw_df.head()"
   ]
  },
  {
   "cell_type": "markdown",
   "metadata": {},
   "source": [
    "And now let's push the modified dataframe into the Stata dataset with the ```-d``` flag:"
   ]
  },
  {
   "cell_type": "code",
   "execution_count": 31,
   "metadata": {
    "collapsed": false
   },
   "outputs": [
    {
     "name": "stdout",
     "output_type": "stream",
     "text": [
      "\n",
      "    Variable |        Obs        Mean    Std. Dev.       Min        Max\n",
      "-------------+---------------------------------------------------------\n",
      "       index |        121          60    35.07373          0        120\n",
      "      number |        121          61    35.07373          1        121\n",
      "     country |          0\n",
      "       ccode |          0\n",
      "          sn |        121    .8099174    .3939977          0          1\n",
      "-------------+---------------------------------------------------------\n",
      "          si |        121    .6198347    .4874457          0          1\n",
      "          so |        121    .1818182    .3872983          0          1\n",
      "     gdp1960 |        116    3681.819    7492.878        383      77881\n",
      "     gdp1985 |        108    5683.259    5688.671        412      25635\n",
      "     workpop |        107    2.279439    .9987481         .3        6.8\n",
      "-------------+---------------------------------------------------------\n",
      "      invest |        121    18.15702     7.85331        4.1       36.9\n",
      "      school |        118    5.526271    3.532037         .4       12.1\n",
      "       lny85 |        108    8.105513    1.094713   6.021023   10.15171\n",
      "       lny60 |        116    7.653548    .9565337   5.948035   11.26294\n",
      "           g |        105    .4489098     .476021  -1.111223   1.659233\n",
      "-------------+---------------------------------------------------------\n",
      "         lni |        121   -1.815126    .4954514  -3.194183  -.9969586\n",
      "         lnd |        107    -2.62946    .1379779  -2.937463  -2.137071\n",
      "         lns |        118    1.401569    .9107757  -.9162907   2.493206\n",
      "\n"
     ]
    }
   ],
   "source": [
    "%%stata -d mrw_df\n",
    "summarize"
   ]
  },
  {
   "cell_type": "markdown",
   "metadata": {},
   "source": [
    "A Stata plot:"
   ]
  },
  {
   "cell_type": "code",
   "execution_count": 9,
   "metadata": {
    "collapsed": false
   },
   "outputs": [
    {
     "data": {
      "image/png": "[encoded data removed]",
      "text/plain": [
       "<IPython.core.display.Image object>"
      ]
     },
     "execution_count": 9,
     "metadata": {
      "image/png": {
       "height": 400,
       "width": 500
      }
     },
     "output_type": "execute_result"
    }
   ],
   "source": [
    "%%stata -d mrw_df --graph \n",
    "graph twoway (scatter g lny60) (lfit g lny60)"
   ]
  },
  {
   "cell_type": "markdown",
   "metadata": {},
   "source": [
    "Now on the python side use lmplot from the seaborn library to graph a similar scatter and fitted line but by region."
   ]
  },
  {
   "cell_type": "code",
   "execution_count": 11,
   "metadata": {
    "collapsed": false
   },
   "outputs": [
    {
     "data": {
      "image/png": "[encoded data removed]",
      "text/plain": [
       "<matplotlib.figure.Figure at 0x153dfc1e9e8>"
      ]
     },
     "metadata": {},
     "output_type": "display_data"
    }
   ],
   "source": [
    "sns.set_style(\"whitegrid\")\n",
    "g=sns.lmplot(y='g', x='lny60', col='sn', data=mrw_df,col_wrap=2)"
   ]
  },
  {
   "cell_type": "code",
   "execution_count": 7,
   "metadata": {
    "collapsed": false
   },
   "outputs": [
    {
     "name": "stderr",
     "output_type": "stream",
     "text": [
      "C:\\Anaconda3\\lib\\site-packages\\IPython\\core\\interactiveshell.py:2881: FutureWarning: The pandas.stats.ols module is deprecated and will be removed in a future version. We refer to external packages like statsmodels, see some examples here: http://statsmodels.sourceforge.net/stable/regression.html\n",
      "  exec(code_obj, self.user_global_ns, self.user_ns)\n"
     ]
    },
    {
     "data": {
      "text/plain": [
       "\n",
       "-------------------------Summary of Regression Analysis-------------------------\n",
       "\n",
       "Formula: Y ~ <x> + <intercept>\n",
       "\n",
       "Number of Observations:         105\n",
       "Number of Degrees of Freedom:   2\n",
       "\n",
       "R-squared:         0.0000\n",
       "Adj R-squared:    -0.0097\n",
       "\n",
       "Rmse:              0.4783\n",
       "\n",
       "F-stat (1, 103):     0.0048, p-value:     0.9446\n",
       "\n",
       "Degrees of Freedom: model 1, resid 103\n",
       "\n",
       "-----------------------Summary of Estimated Coefficients------------------------\n",
       "      Variable       Coef    Std Err     t-stat    p-value    CI 2.5%   CI 97.5%\n",
       "--------------------------------------------------------------------------------\n",
       "             x     0.0034     0.0482       0.07     0.9446    -0.0912     0.0979\n",
       "     intercept     0.4233     0.3711       1.14     0.2567    -0.3041     1.1507\n",
       "---------------------------------End of Summary---------------------------------"
      ]
     },
     "execution_count": 7,
     "metadata": {},
     "output_type": "execute_result"
    }
   ],
   "source": [
    "pd.ols(y=mrw_df.g, x=mrw_df.lny60)"
   ]
  },
  {
   "cell_type": "markdown",
   "metadata": {},
   "source": [
    "## Stata in a jupyter notebook\n",
    "\n",
    "http://dev-ii-seminar.readthedocs.io/en/latest/notebooks/Stata_in_jupyter.html\n",
    "\n",
    "The jupyter notebook project is now designed to be a 'language agnostic' web-application front-end for any one of many possible software language kernels.  We've been mostly using python but there are in fact several dozen [other language kernels](https://github.com/ipython/ipython/wiki/IPython-kernels-for-other-languages) that can be made to work with it. \n",
    "\n",
    "The ecosystem of libraries and packages for scientific computing with python is huge and constantly growing but there are still many statistics and econometrics applications that are available as built-in or user-written modules in Stata that have not yet been ported to python or are just simply easier to use in Stata.  On the other hand there are some libraries such as python  pandas and different visualization libraries such as seaborn or matplotlib that give features that are not available in Stata. \n",
    "\n",
    "Fortunately you don't have to choose between using Stata or python, you can use them both together, to get the best of both worlds.    \n",
    "\n",
    "There are at least two ways to run Stata in a jupyter notebook by itself or together with python. Both methods naturally require that you also have Stata installed on your machine to run and that you setup something called [Stata automation](http://www.stata.com/automation/#createmsapp) which seems to be possible only on Windows machines.  Both are relatively easy to setup.\n",
    "\n",
    "\n",
    "\n",
    "\n",
    "- *[Method 1: stata-kernel](https://github.com/jrfiedler/stata-kernel):* James Fiedler has written a kernel for Stata which allows you to create and run standalone interactive Stata notebook sessions. Inline plots do not seem possible.  \n",
    "\n",
    "- *[Method 2: ipystata](https://github.com/TiesdeKok/ipystata):* Ties de Kok has written a nice python library that allows one to write and execute Stata code in cellblocks that are preceded by a ```%%stata``` magic command in a notebook that is otherwise running python. This allows you to pass data between python and Stata sessions and to display Stata plots inline. "
   ]
  }
 ],
 "metadata": {
  "anaconda-cloud": {},
  "kernelspec": {
   "display_name": "Python [default]",
   "language": "python",
   "name": "python3"
  },
  "language_info": {
   "codemirror_mode": {
    "name": "ipython",
    "version": 3
   },
   "file_extension": ".py",
   "mimetype": "text/x-python",
   "name": "python",
   "nbconvert_exporter": "python",
   "pygments_lexer": "ipython3",
   "version": "3.5.2"
  }
 },
 "nbformat": 4,
 "nbformat_minor": 0
}
